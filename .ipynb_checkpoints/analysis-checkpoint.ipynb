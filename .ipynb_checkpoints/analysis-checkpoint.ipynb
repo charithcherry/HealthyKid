{
 "cells": [
  {
   "cell_type": "code",
   "execution_count": 1,
   "metadata": {},
   "outputs": [],
   "source": [
    "import pandas as pd\n",
    "import numpy as np\n",
    "import matplotlib.pyplot as plt\n",
    "import seaborn as sns\n",
    "import os"
   ]
  },
  {
   "cell_type": "code",
   "execution_count": 2,
   "metadata": {},
   "outputs": [],
   "source": [
    "def basic_visualization(dataset):\n",
    "    pass"
   ]
  },
  {
   "cell_type": "code",
   "execution_count": 3,
   "metadata": {},
   "outputs": [],
   "source": [
    "def BloodGroupTypes(data):\n",
    "    data.loc[(data['Blood Group'] == 'A+')|(data['Blood Group'] == 'A'),'Blood Group']='A+ve'\n",
    "    data.loc[(data['Blood Group'] == 'B+')|(data['Blood Group'] == 'B'),'Blood Group']='B+ve'\n",
    "    data.loc[(data['Blood Group'] == 'O+')|(data['Blood Group'] == 'O'),'Blood Group']='O+ve'\n",
    "    data.loc[(data['Blood Group'] == 'AB+')|(data['Blood Group'] == 'AB'),'Blood Group']='AB+ve'\n",
    "    data.loc[(data['Blood Group'] == 'A-'),'Blood Group']='A-ve'\n",
    "    data.loc[(data['Blood Group'] == 'B-'),'Blood Group']='B-ve'\n",
    "    data.loc[(data['Blood Group'] == 'O-'),'Blood Group']='O-ve'\n",
    "    data.loc[(data['Blood Group'] == 'AB-'),'Blood Group']='AB-ve'\n",
    "    return data"
   ]
  },
  {
   "cell_type": "code",
   "execution_count": 4,
   "metadata": {},
   "outputs": [],
   "source": [
    "def data_cleaning(dataset):\n",
    "    print(\"Initial size of dataset {}\".format(dataset.shape))\n",
    "    err= dataset[ data['Blood Group'] == '#REF!' ].index\n",
    "    dataset.drop(err, inplace=True)\n",
    "    print(\"Dataset Size after removing err records {}\".format(dataset.shape))\n",
    "    invalid_r= dataset[(dataset['Blood Group'].isnull()) & (dataset['Sex'].isnull())& (dataset['Height'].isnull())&(dataset['Weight'].isnull())& (dataset['BMI'].isnull())].index\n",
    "    dataset.drop(invalid_r, inplace=True)\n",
    "    print(\"Dataset Size after removing invalid records {}\".format(dataset.shape))\n",
    "    dataset=BloodGroupTypes(dataset)\n",
    "    print(\"Blood Group Types available {}\".format(data['Blood Group'].unique()))\n",
    "    return dataset\n",
    "\n",
    "\n",
    "\n",
    "\n",
    "    "
   ]
  },
  {
   "cell_type": "code",
   "execution_count": 14,
   "metadata": {},
   "outputs": [],
   "source": [
    "def data_description(data):\n",
    "    data.describe()"
   ]
  },
  {
   "cell_type": "code",
   "execution_count": 16,
   "metadata": {},
   "outputs": [
    {
     "name": "stdout",
     "output_type": "stream",
     "text": [
      "                 UHID   Sex Age in yrs Blood Group Class  School ID   Height  \\\n",
      "count            1410  1407       1410         681  1407       1410     1316   \n",
      "unique           1410     2         46           8    16          4      439   \n",
      "top     100-0000-0655  Male          7        O+ve     2  S0000003   126  cm   \n",
      "freq                1   723        160         243   163        732       18   \n",
      "\n",
      "          Weight      BMI Temperature  ... Eye_Issue  ENT_Issue_Detail  \\\n",
      "count       1317     1410        1310  ...      1203               301   \n",
      "unique       482      193          67  ...         2               116   \n",
      "top     14.4  kg  #VALUE!     97.9  F  ...        No  wax in both ears   \n",
      "freq          11       94          86  ...      1078                45   \n",
      "\n",
      "        Eye_Issue_Detail Wears_Glass Left_Eye_Power Right_Eye_Power  \\\n",
      "count                122        1201           1201            1201   \n",
      "unique                32           2              7               7   \n",
      "top     Refractive error          No            6/6             6/6   \n",
      "freq                  48        1160           1087            1084   \n",
      "\n",
      "       Left_Eye_Pwr_WthGlass Right_Eye_Pwr_WthGlass           Overall Summary  \\\n",
      "count                     41                     41                       659   \n",
      "unique                     5                      5                       411   \n",
      "top                      6/6                    6/6  In good health condition   \n",
      "freq                      29                     30                       114   \n",
      "\n",
      "       Recommendation  \n",
      "count             303  \n",
      "unique            188  \n",
      "top       ENT opinion  \n",
      "freq               18  \n",
      "\n",
      "[4 rows x 34 columns]\n"
     ]
    }
   ],
   "source": [
    "data_description(data)"
   ]
  },
  {
   "cell_type": "code",
   "execution_count": 5,
   "metadata": {},
   "outputs": [],
   "source": [
    "data=pd.read_csv('reqdata.csv')"
   ]
  },
  {
   "cell_type": "code",
   "execution_count": null,
   "metadata": {},
   "outputs": [],
   "source": []
  },
  {
   "cell_type": "code",
   "execution_count": 6,
   "metadata": {},
   "outputs": [
    {
     "name": "stdout",
     "output_type": "stream",
     "text": [
      "Initial size of dataset (2803, 34)\n",
      "Dataset Size after removing err records (2801, 34)\n",
      "Dataset Size after removing invalid records (1410, 34)\n",
      "Blood Group Types available ['A+ve' 'O+ve' 'B+ve' 'AB+ve' 'O-ve' 'B-ve' nan 'A-ve' 'AB-ve']\n"
     ]
    }
   ],
   "source": [
    "data=data_cleaning(data)"
   ]
  },
  {
   "cell_type": "code",
   "execution_count": 7,
   "metadata": {},
   "outputs": [],
   "source": [
    "#data1 = pd.read_excel(\"HKinterns_shared_data.xlsx\",engine='openpyxl',)"
   ]
  },
  {
   "cell_type": "code",
   "execution_count": 8,
   "metadata": {},
   "outputs": [
    {
     "data": {
      "text/plain": [
       "Index(['UHID', 'Sex', 'Age in yrs', 'Blood Group', 'Class', ' School ID',\n",
       "       'Height', 'Weight', 'BMI', 'Temperature', 'BP', 'Pulse', 'CBTestResult',\n",
       "       'Caries', 'Discoloration', 'Healthy_Gums', 'Malocclusion',\n",
       "       'Oral_Hygine', 'TeethWellFormed', 'Serious_Dental_Issue',\n",
       "       'Dentist_Recommendation', 'LEFT_EAR', 'RIGHT_EAR', 'ENT_Issue',\n",
       "       'Eye_Issue', 'ENT_Issue_Detail', 'Eye_Issue_Detail', 'Wears_Glass',\n",
       "       'Left_Eye_Power', 'Right_Eye_Power', 'Left_Eye_Pwr_WthGlass',\n",
       "       'Right_Eye_Pwr_WthGlass', 'Overall Summary', 'Recommendation'],\n",
       "      dtype='object')"
      ]
     },
     "execution_count": 8,
     "metadata": {},
     "output_type": "execute_result"
    }
   ],
   "source": [
    "data.columns"
   ]
  },
  {
   "cell_type": "code",
   "execution_count": null,
   "metadata": {},
   "outputs": [],
   "source": []
  },
  {
   "cell_type": "markdown",
   "metadata": {},
   "source": []
  },
  {
   "cell_type": "code",
   "execution_count": null,
   "metadata": {},
   "outputs": [],
   "source": []
  },
  {
   "cell_type": "markdown",
   "metadata": {},
   "source": []
  },
  {
   "cell_type": "code",
   "execution_count": null,
   "metadata": {},
   "outputs": [],
   "source": []
  },
  {
   "cell_type": "code",
   "execution_count": null,
   "metadata": {},
   "outputs": [],
   "source": []
  },
  {
   "cell_type": "code",
   "execution_count": 9,
   "metadata": {},
   "outputs": [
    {
     "data": {
      "text/html": [
       "<div>\n",
       "<style scoped>\n",
       "    .dataframe tbody tr th:only-of-type {\n",
       "        vertical-align: middle;\n",
       "    }\n",
       "\n",
       "    .dataframe tbody tr th {\n",
       "        vertical-align: top;\n",
       "    }\n",
       "\n",
       "    .dataframe thead th {\n",
       "        text-align: right;\n",
       "    }\n",
       "</style>\n",
       "<table border=\"1\" class=\"dataframe\">\n",
       "  <thead>\n",
       "    <tr style=\"text-align: right;\">\n",
       "      <th></th>\n",
       "      <th>BP</th>\n",
       "      <th>Age in yrs</th>\n",
       "    </tr>\n",
       "  </thead>\n",
       "  <tbody>\n",
       "    <tr>\n",
       "      <th>1210</th>\n",
       "      <td>NaN</td>\n",
       "      <td>6</td>\n",
       "    </tr>\n",
       "    <tr>\n",
       "      <th>1211</th>\n",
       "      <td>NaN</td>\n",
       "      <td>6</td>\n",
       "    </tr>\n",
       "    <tr>\n",
       "      <th>1212</th>\n",
       "      <td>NaN</td>\n",
       "      <td>5</td>\n",
       "    </tr>\n",
       "    <tr>\n",
       "      <th>1213</th>\n",
       "      <td>NaN</td>\n",
       "      <td>6</td>\n",
       "    </tr>\n",
       "    <tr>\n",
       "      <th>1214</th>\n",
       "      <td>NaN</td>\n",
       "      <td>5</td>\n",
       "    </tr>\n",
       "    <tr>\n",
       "      <th>...</th>\n",
       "      <td>...</td>\n",
       "      <td>...</td>\n",
       "    </tr>\n",
       "    <tr>\n",
       "      <th>1405</th>\n",
       "      <td>120/77  mmHg</td>\n",
       "      <td>28</td>\n",
       "    </tr>\n",
       "    <tr>\n",
       "      <th>1406</th>\n",
       "      <td>155/93  mmHg</td>\n",
       "      <td>49</td>\n",
       "    </tr>\n",
       "    <tr>\n",
       "      <th>1407</th>\n",
       "      <td>88/59  mmHg</td>\n",
       "      <td>26</td>\n",
       "    </tr>\n",
       "    <tr>\n",
       "      <th>1408</th>\n",
       "      <td>NaN</td>\n",
       "      <td>39</td>\n",
       "    </tr>\n",
       "    <tr>\n",
       "      <th>1409</th>\n",
       "      <td>NaN</td>\n",
       "      <td>11</td>\n",
       "    </tr>\n",
       "  </tbody>\n",
       "</table>\n",
       "<p>200 rows × 2 columns</p>\n",
       "</div>"
      ],
      "text/plain": [
       "                BP Age in yrs\n",
       "1210           NaN          6\n",
       "1211           NaN          6\n",
       "1212           NaN          5\n",
       "1213           NaN          6\n",
       "1214           NaN          5\n",
       "...            ...        ...\n",
       "1405  120/77  mmHg         28\n",
       "1406  155/93  mmHg         49\n",
       "1407   88/59  mmHg         26\n",
       "1408           NaN         39\n",
       "1409           NaN         11\n",
       "\n",
       "[200 rows x 2 columns]"
      ]
     },
     "execution_count": 9,
     "metadata": {},
     "output_type": "execute_result"
    }
   ],
   "source": [
    "data[['BP','Age in yrs']].tail(200)"
   ]
  },
  {
   "cell_type": "code",
   "execution_count": null,
   "metadata": {},
   "outputs": [],
   "source": []
  },
  {
   "cell_type": "code",
   "execution_count": null,
   "metadata": {},
   "outputs": [],
   "source": []
  },
  {
   "cell_type": "code",
   "execution_count": null,
   "metadata": {},
   "outputs": [],
   "source": []
  },
  {
   "cell_type": "code",
   "execution_count": null,
   "metadata": {},
   "outputs": [],
   "source": []
  },
  {
   "cell_type": "markdown",
   "metadata": {},
   "source": [
    "*convert xlsx into csv\n",
    "*remove rows with blood group '#REF!'\n",
    "*adjusting blood group types\n",
    "*remove rows with all nan values(except age column)\n",
    "\n"
   ]
  },
  {
   "cell_type": "code",
   "execution_count": null,
   "metadata": {},
   "outputs": [],
   "source": []
  },
  {
   "cell_type": "code",
   "execution_count": null,
   "metadata": {},
   "outputs": [],
   "source": []
  },
  {
   "cell_type": "code",
   "execution_count": null,
   "metadata": {},
   "outputs": [],
   "source": []
  },
  {
   "cell_type": "code",
   "execution_count": null,
   "metadata": {},
   "outputs": [],
   "source": []
  }
 ],
 "metadata": {
  "kernelspec": {
   "display_name": "Python 3",
   "language": "python",
   "name": "python3"
  },
  "language_info": {
   "codemirror_mode": {
    "name": "ipython",
    "version": 3
   },
   "file_extension": ".py",
   "mimetype": "text/x-python",
   "name": "python",
   "nbconvert_exporter": "python",
   "pygments_lexer": "ipython3",
   "version": "3.8.5"
  }
 },
 "nbformat": 4,
 "nbformat_minor": 4
}
