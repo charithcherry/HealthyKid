{
 "cells": [
  {
   "cell_type": "code",
   "execution_count": 1,
   "metadata": {},
   "outputs": [],
   "source": [
    "import pandas as pd\n",
    "import numpy as np\n",
    "import matplotlib.pyplot as plt\n",
    "import seaborn as sns\n",
    "import os\n",
    "import lux"
   ]
  },
  {
   "cell_type": "code",
   "execution_count": 2,
   "metadata": {},
   "outputs": [],
   "source": [
    "def basic_visualization(dataset):\n",
    "    pass"
   ]
  },
  {
   "cell_type": "code",
   "execution_count": 3,
   "metadata": {},
   "outputs": [],
   "source": [
    "def BloodGroupTypes(data):\n",
    "    data.loc[(data['Blood Group'] == 'A+')|(data['Blood Group'] == 'A'),'Blood Group']='A+ve'\n",
    "    data.loc[(data['Blood Group'] == 'B+')|(data['Blood Group'] == 'B'),'Blood Group']='B+ve'\n",
    "    data.loc[(data['Blood Group'] == 'O+')|(data['Blood Group'] == 'O'),'Blood Group']='O+ve'\n",
    "    data.loc[(data['Blood Group'] == 'AB+')|(data['Blood Group'] == 'AB'),'Blood Group']='AB+ve'\n",
    "    data.loc[(data['Blood Group'] == 'A-'),'Blood Group']='A-ve'\n",
    "    data.loc[(data['Blood Group'] == 'B-'),'Blood Group']='B-ve'\n",
    "    data.loc[(data['Blood Group'] == 'O-'),'Blood Group']='O-ve'\n",
    "    data.loc[(data['Blood Group'] == 'AB-'),'Blood Group']='AB-ve'\n",
    "    return data"
   ]
  },
  {
   "cell_type": "code",
   "execution_count": 4,
   "metadata": {},
   "outputs": [],
   "source": [
    "def data_cleaning(dataset):\n",
    "    print(\"Initial size of dataset {}\".format(dataset.shape))\n",
    "    err= dataset[ data['Blood Group'] == '#REF!' ].index\n",
    "    dataset.drop(err, inplace=True)\n",
    "    print(\"Dataset Size after removing err records {}\".format(dataset.shape))\n",
    "    errVAl= data[ data['Age in yrs'] == '#VALUE!' ].index\n",
    "    dataset.drop(errVAl, inplace=True)\n",
    "    print(\"Dataset Size after removing err value records {}\".format(dataset.shape))    \n",
    "    invalid_r= dataset[(dataset['Blood Group'].isnull()) & (dataset['Sex'].isnull())& (dataset['Height'].isnull())&(dataset['Weight'].isnull())& (dataset['BMI'].isnull())].index\n",
    "    dataset.drop(invalid_r, inplace=True)\n",
    "    print(\"Dataset Size after removing invalid records {}\".format(dataset.shape))\n",
    "    \n",
    "\n",
    "\n",
    "\n",
    "\n",
    "    "
   ]
  },
  {
   "cell_type": "code",
   "execution_count": 46,
   "metadata": {},
   "outputs": [],
   "source": [
    "def data_conversion(dataset):\n",
    "    dataset=BloodGroupTypes(dataset)\n",
    "    print(\"Blood Group Types available {}\".format(data['Blood Group'].unique()))\n",
    "    data['Age in yrs'] = data['Age in yrs'].apply(pd.to_numeric)\n",
    "    data['Weight'] = data['Weight'].str.rstrip('kg').apply(pd.to_numeric)\n",
    "    data['Height'] = data['Height'].str.rstrip('cm').apply(pd.to_numeric)\n",
    "    data['Temperature'] = data['Temperature'].str.rstrip('F').apply(pd.to_numeric)\n",
    "    data['Pulse'] = data['Pulse'].str.rstrip('per Min').apply(pd.to_numeric)\n",
    "    data['BP'] = data['BP'].str.rstrip('mmHg')\n",
    "    "
   ]
  },
  {
   "cell_type": "code",
   "execution_count": null,
   "metadata": {},
   "outputs": [],
   "source": [
    "def BP_manipulation(data):\n",
    "    data.loc[(data['BP'].isnull()) & (data['Weight'].between(20,42,inclusive=True))& (data['Age in yrs'] == 10),'BP']='96/117'\n",
    "    data.loc[(data['BP'].isnull()) & (data['Weight'].between(20,42,inclusive=True))& (data['Age in yrs'] == 11),'BP']='98/119'\n",
    "    data.loc[(data['BP'].isnull()) & (data['Weight'].between(20,42,inclusive=True))& (data['Age in yrs'] == 12),'BP']='100/121'\n",
    "    data.loc[(data['BP'].isnull()) & (data['Weight']>=50) & (data['Age in yrs'] >= 13),'BP']='102/124'\n",
    "    "
   ]
  },
  {
   "cell_type": "code",
   "execution_count": 60,
   "metadata": {},
   "outputs": [],
   "source": [
    "def column_gen(data):\n",
    "    new=data['BP'].str.split('/',n=1,expand=True)\n",
    "    data['systolic']=new[0]\n",
    "    data['diastolic']=new[1]\n",
    "    new=data['Left_Eye_Power'].str.split('/',n=1,expand=True)\n",
    "    data['LEP0']=new[0]\n",
    "    data['LEP1']=new[1]\n",
    "    new=data['Right_Eye_Power'].str.split('/',n=1,expand=True)\n",
    "    data['REP0']=new[0]\n",
    "    data['REP1']=new[1]\n",
    "    new=data['Left_Eye_Pwr_WthGlass'].str.split('/',n=1,expand=True)\n",
    "    data['LEPG0']=new[0]\n",
    "    data['LEPG1']=new[1]\n",
    "    new=data['Right_Eye_Pwr_WthGlass'].str.split('/',n=1,expand=True)\n",
    "    data['REPG0']=new[0]\n",
    "    data['REPG1']=new[1]\n",
    "    \n",
    "    \n",
    "    "
   ]
  },
  {
   "cell_type": "code",
   "execution_count": 61,
   "metadata": {},
   "outputs": [],
   "source": [
    "data=pd.read_csv('reqdata.csv')"
   ]
  },
  {
   "cell_type": "code",
   "execution_count": 62,
   "metadata": {},
   "outputs": [
    {
     "name": "stdout",
     "output_type": "stream",
     "text": [
      "Initial size of dataset (2803, 34)\n",
      "Dataset Size after removing err records (2801, 34)\n",
      "Dataset Size after removing err value records (2795, 34)\n",
      "Dataset Size after removing invalid records (1407, 34)\n",
      "Blood Group Types available ['A+ve' 'O+ve' 'B+ve' 'AB+ve' 'O-ve' 'B-ve' nan 'A-ve' 'AB-ve']\n"
     ]
    }
   ],
   "source": [
    "data_cleaning(data)\n",
    "data_conversion(data)"
   ]
  },
  {
   "cell_type": "code",
   "execution_count": 63,
   "metadata": {},
   "outputs": [],
   "source": [
    "column_gen(data)"
   ]
  },
  {
   "cell_type": "code",
   "execution_count": 49,
   "metadata": {
    "scrolled": true
   },
   "outputs": [
    {
     "data": {
      "application/vnd.jupyter.widget-view+json": {
       "model_id": "9f5cf73fb4eb4d29b4ea64d25cf3eb6a",
       "version_major": 2,
       "version_minor": 0
      },
      "text/plain": [
       "Button(description='Toggle Pandas/Lux', layout=Layout(top='5px', width='140px'), style=ButtonStyle())"
      ]
     },
     "metadata": {},
     "output_type": "display_data"
    },
    {
     "data": {
      "application/vnd.jupyter.widget-view+json": {
       "model_id": "adf792e68a6545889fd8a6129f370663",
       "version_major": 2,
       "version_minor": 0
      },
      "text/plain": [
       "Output()"
      ]
     },
     "metadata": {},
     "output_type": "display_data"
    },
    {
     "data": {
      "text/plain": []
     },
     "execution_count": 49,
     "metadata": {},
     "output_type": "execute_result"
    }
   ],
   "source": []
  },
  {
   "cell_type": "code",
   "execution_count": null,
   "metadata": {},
   "outputs": [],
   "source": []
  },
  {
   "cell_type": "code",
   "execution_count": 10,
   "metadata": {},
   "outputs": [],
   "source": [
    "#data1 = pd.read_excel(\"HKinterns_shared_data.xlsx\",engine='openpyxl',)"
   ]
  },
  {
   "cell_type": "code",
   "execution_count": 64,
   "metadata": {},
   "outputs": [
    {
     "data": {
      "text/plain": [
       "Index(['UHID', 'Sex', 'Age in yrs', 'Blood Group', 'Class', ' School ID',\n",
       "       'Height', 'Weight', 'BMI', 'Temperature', 'BP', 'Pulse', 'CBTestResult',\n",
       "       'Caries', 'Discoloration', 'Healthy_Gums', 'Malocclusion',\n",
       "       'Oral_Hygine', 'TeethWellFormed', 'Serious_Dental_Issue',\n",
       "       'Dentist_Recommendation', 'LEFT_EAR', 'RIGHT_EAR', 'ENT_Issue',\n",
       "       'Eye_Issue', 'ENT_Issue_Detail', 'Eye_Issue_Detail', 'Wears_Glass',\n",
       "       'Left_Eye_Power', 'Right_Eye_Power', 'Left_Eye_Pwr_WthGlass',\n",
       "       'Right_Eye_Pwr_WthGlass', 'Overall Summary', 'Recommendation',\n",
       "       'systolic', 'diastolic', 'LEP0', 'LEP1', 'REP0', 'REP1', 'LEPG0',\n",
       "       'LEPG1', 'REPG0', 'REPG1'],\n",
       "      dtype='object')"
      ]
     },
     "execution_count": 64,
     "metadata": {},
     "output_type": "execute_result"
    }
   ],
   "source": [
    "data.columns"
   ]
  },
  {
   "cell_type": "code",
   "execution_count": 54,
   "metadata": {},
   "outputs": [
    {
     "data": {
      "application/vnd.jupyter.widget-view+json": {
       "model_id": "cbae5fed9c004c448c619ab0448ff831",
       "version_major": 2,
       "version_minor": 0
      },
      "text/plain": [
       "Button(description='Toggle Pandas/Lux', layout=Layout(top='5px', width='140px'), style=ButtonStyle())"
      ]
     },
     "metadata": {},
     "output_type": "display_data"
    },
    {
     "data": {
      "application/vnd.jupyter.widget-view+json": {
       "model_id": "af1791f91702474b902228c0aedf189e",
       "version_major": 2,
       "version_minor": 0
      },
      "text/plain": [
       "Output()"
      ]
     },
     "metadata": {},
     "output_type": "display_data"
    },
    {
     "data": {
      "text/plain": []
     },
     "execution_count": 54,
     "metadata": {},
     "output_type": "execute_result"
    }
   ],
   "source": [
    "data.head()"
   ]
  },
  {
   "cell_type": "markdown",
   "metadata": {},
   "source": []
  },
  {
   "cell_type": "code",
   "execution_count": null,
   "metadata": {},
   "outputs": [],
   "source": []
  },
  {
   "cell_type": "markdown",
   "metadata": {},
   "source": []
  },
  {
   "cell_type": "code",
   "execution_count": null,
   "metadata": {},
   "outputs": [],
   "source": []
  },
  {
   "cell_type": "code",
   "execution_count": null,
   "metadata": {},
   "outputs": [],
   "source": []
  },
  {
   "cell_type": "code",
   "execution_count": 12,
   "metadata": {},
   "outputs": [
    {
     "data": {
      "application/vnd.jupyter.widget-view+json": {
       "model_id": "32bcce0c51d742feb6413d94853db984",
       "version_major": 2,
       "version_minor": 0
      },
      "text/plain": [
       "Button(description='Toggle Pandas/Lux', layout=Layout(top='5px', width='140px'), style=ButtonStyle())"
      ]
     },
     "metadata": {},
     "output_type": "display_data"
    },
    {
     "data": {
      "application/vnd.jupyter.widget-view+json": {
       "model_id": "8632bc83b7234746b744fad626288570",
       "version_major": 2,
       "version_minor": 0
      },
      "text/plain": [
       "Output()"
      ]
     },
     "metadata": {},
     "output_type": "display_data"
    },
    {
     "data": {
      "text/plain": []
     },
     "execution_count": 12,
     "metadata": {},
     "output_type": "execute_result"
    }
   ],
   "source": []
  },
  {
   "cell_type": "code",
   "execution_count": 13,
   "metadata": {},
   "outputs": [],
   "source": [
    "\n",
    "\n",
    "\n",
    "\n",
    "\n",
    " "
   ]
  },
  {
   "cell_type": "code",
   "execution_count": 14,
   "metadata": {},
   "outputs": [
    {
     "data": {
      "text/plain": [
       "array(['104/75  mmHg', '150/69  mmHg', '113/67  mmHg', '114/78  mmHg',\n",
       "       '95/56  mmHg', '124/72  mmHg', '118/78  mmHg', '111/69  mmHg',\n",
       "       '104/84  mmHg', '125/78  mmHg', '106/68  mmHg', '106/62  mmHg',\n",
       "       '92/65  mmHg', '128/75  mmHg', '103/59  mmHg', '109/68  mmHg',\n",
       "       '139/63  mmHg', '119/64  mmHg', '110/68  mmHg', nan,\n",
       "       '127/80  mmHg', '103/77  mmHg', '106/70  mmHg', '111/96  mmHg',\n",
       "       '128/80  mmHg', '109/75  mmHg', '124/81  mmHg', '118/68  mmHg',\n",
       "       '137/90  mmHg', '143/89  mmHg', '114/68  mmHg', '134/78  mmHg',\n",
       "       '101/60  mmHg', '134/79  mmHg', '120/80  mmHg', '115/71  mmHg',\n",
       "       '121/78  mmHg', '120/73  mmHg', '115/75  mmHg', '115/69  mmHg',\n",
       "       '102/81  mmHg', '122/76  mmHg', '107/73  mmHg', '98/61  mmHg',\n",
       "       '93/80  mmHg', '109/76  mmHg', '120/78  mmHg', '125/76  mmHg',\n",
       "       '119/82  mmHg', '121/63  mmHg', '130/73  mmHg', '114/79  mmHg',\n",
       "       '126/84  mmHg', '115/72  mmHg', '120/50  mmHg', '91/55  mmHg',\n",
       "       '119/87  mmHg', '113/74  mmHg', '86/58  mmHg', '111/71  mmHg',\n",
       "       '107/68  mmHg', '100/65  mmHg', '128/73  mmHg', '87/61  mmHg',\n",
       "       '97/65  mmHg', '94/68  mmHg', '120/85  mmHg', '139/87  mmHg',\n",
       "       '126/81  mmHg', '125/82  mmHg', '115/82  mmHg', '121/80  mmHg',\n",
       "       '109/67  mmHg', '108/73  mmHg', '121/74  mmHg', '91/61  mmHg',\n",
       "       '108/66  mmHg', '117/69  mmHg', '137/80  mmHg', '109/78  mmHg',\n",
       "       '145/88  mmHg', '82/57  mmHg', '110/86  mmHg', '118/72  mmHg',\n",
       "       '116/76  mmHg', '91/64  mmHg', '112/69  mmHg', '94/58  mmHg',\n",
       "       '108/65  mmHg', '105/79  mmHg', '123/81  mmHg', '134/80  mmHg',\n",
       "       '118/79  mmHg', '88/55  mmHg', '108/77  mmHg', '121/86  mmHg',\n",
       "       '90/65  mmHg', '182/98  mmHg', '105/75  mmHg', '120/82  mmHg',\n",
       "       '127/71  mmHg', '129/109  mmHg', '113/77  mmHg', '104/68  mmHg',\n",
       "       '90/67  mmHg', '100/121', '120/67  mmHg', '96/66  mmHg',\n",
       "       '90/66  mmHg', '114/66  mmHg', '119/71  mmHg', '98/119',\n",
       "       '139/92  mmHg', '116/9*  mmHg', '98/58  mmHg', '113/76  mmHg',\n",
       "       '104/81  mmHg', '97/75  mmHg', '107/62  mmHg', '107/63  mmHg',\n",
       "       '100/66  mmHg', '86/60  mmHg', '118/73  mmHg', '95/59  mmHg',\n",
       "       '106/64  mmHg', '91/63  mmHg', '113/79  mmHg', '108/78  mmHg',\n",
       "       '99/68  mmHg', '93/63  mmHg', '99/71  mmHg', '102/62  mmHg',\n",
       "       '109/69  mmHg', '93/59  mmHg', '97/69  mmHg', '106/75  mmHg',\n",
       "       '104/63  mmHg', '97/72  mmHg', '88/54  mmHg', '100/56  mmHg',\n",
       "       '95/64  mmHg', '83/60  mmHg', '100/63  mmHg', '110/67  mmHg',\n",
       "       '103/65  mmHg', '107/84  mmHg', '98/67  mmHg', '94/67  mmHg',\n",
       "       '94/61  mmHg', '106/69  mmHg', '88/59  mmHg', '96/117',\n",
       "       '114/76  mmHg', '117/58  mmHg', '96/58  mmHg', '93/53  mmHg',\n",
       "       '93/65  mmHg', '114  mmHg', '122.7  mmHg', '101/67  mmHg',\n",
       "       '92/60  mmHg', '122/73  mmHg', '101/73  mmHg', '120/70  mmHg',\n",
       "       '118/75  mmHg', '117/85  mmHg', '109/71  mmHg', '98/71  mmHg',\n",
       "       '122/82  mmHg', '96/71  mmHg', '104/79  mmHg', '93/67  mmHg',\n",
       "       '102/65  mmHg', '104/60  mmHg', '103/62  mmHg', '126/71  mmHg',\n",
       "       '116/67  mmHg', '112/80  mmHg', '96/73  mmHg', '86/66  mmHg',\n",
       "       '119/85  mmHg', '117/62  mmHg', '76/55  mmHg', '89/66  mmHg',\n",
       "       '94/62  mmHg', '127/84  mmHg', '112/66  mmHg', '102/84  mmHg',\n",
       "       '139/71  mmHg', '114/77  mmHg', '95/67  mmHg', '105/81  mmHg',\n",
       "       '126/76  mmHg', '101/69  mmHg', '96/63  mmHg', '106/60  mmHg',\n",
       "       '113/63  mmHg', '102/67  mmHg', '88/70  mmHg', '121/65  mmHg',\n",
       "       '122/78  mmHg', '90/62  mmHg', '99/61  mmHg', '101/70  mmHg',\n",
       "       '91/60  mmHg', '102/71  mmHg', '111/68  mmHg', '89/64  mmHg',\n",
       "       '108/71  mmHg', '111/79  mmHg', '97/64  mmHg', '103/74  mmHg',\n",
       "       '97/74  mmHg', '106/77  mmHg', '95/66  mmHg', '106/67  mmHg',\n",
       "       '110/72  mmHg', '98/72  mmHg', '136/86  mmHg', '117/75  mmHg',\n",
       "       '109/79  mmHg', '110/73  mmHg', '103/67  mmHg', '101/78  mmHg',\n",
       "       '97/66  mmHg', '94/64  mmHg', '95/72  mmHg', '111/65  mmHg',\n",
       "       '102/66  mmHg', '90/58  mmHg', '89/70  mmHg', '85/64  mmHg',\n",
       "       '95/60  mmHg', '115/66  mmHg', '133/73  mmHg', '116/83  mmHg',\n",
       "       '102/64  mmHg', '100/73  mmHg', '121/71  mmHg', '137/79  mmHg',\n",
       "       '88/61  mmHg', '103/75  mmHg', '103/71  mmHg', '91/69  mmHg',\n",
       "       '114/64  mmHg', '101/61  mmHg', '113/83  mmHg', '104/65  mmHg',\n",
       "       '116/85  mmHg', '111/72  mmHg', '124/67  mmHg', '115/58  mmHg',\n",
       "       '111/64  mmHg', '121/72  mmHg', '115/76  mmHg', '98/63  mmHg',\n",
       "       '121/81  mmHg', '122/70  mmHg', '104/74  mmHg', '104/64  mmHg',\n",
       "       '99/58  mmHg', '120/56  mmHg', '93  mmHg', '130/69  mmHg',\n",
       "       '111/77  mmHg', '111/85  mmHg', '147/91  mmHg', '107/77  mmHg',\n",
       "       '114/71  mmHg', '101/80  mmHg', '96/70  mmHg', '101/79  mmHg',\n",
       "       '94/75  mmHg', '111/66  mmHg', '95/77  mmHg', '89/71  mmHg',\n",
       "       '112/83  mmHg', '99/73  mmHg', '103/69  mmHg', '102/73  mmHg',\n",
       "       '93/58  mmHg', '96/68  mmHg', '107/66  mmHg', '99/70  mmHg',\n",
       "       '108/95  mmHg', '105/71  mmHg', '115/86  mmHg', '96/72  mmHg',\n",
       "       '87/66  mmHg', '84/62  mmHg', '113/80  mmHg', '92/76  mmHg',\n",
       "       '116/62  mmHg', '117/72  mmHg', '108/68  mmHg', '97/71  mmHg',\n",
       "       '97/78  mmHg', '105/65  mmHg', '120/72  mmHg', '130/71  mmHg',\n",
       "       '100/69  mmHg', '124/66  mmHg', '127/88  mmHg', '125/98  mmHg',\n",
       "       '126/86  mmHg', '107/87  mmHg', '128/88  mmHg', '104/72  mmHg',\n",
       "       '114/61  mmHg', '112/72  mmHg', '110/65  mmHg', '71  mmHg',\n",
       "       '131/84  mmHg', '108/64  mmHg', '120/68  mmHg', '139/88  mmHg',\n",
       "       '120/66  mmHg', '115/80  mmHg', '127/86  mmHg', '133/74  mmHg',\n",
       "       '98/64  mmHg', '131/88  mmHg', '108/56  mmHg', '125/79  mmHg',\n",
       "       '117/74  mmHg', '131/71  mmHg', '106/65  mmHg', '110/69  mmHg',\n",
       "       '118/74  mmHg', '126/79  mmHg', '111/75  mmHg', '94/66  mmHg',\n",
       "       '104/51  mmHg', '108/81  mmHg', '117/76  mmHg', '136/80  mmHg',\n",
       "       '139/77  mmHg', '124/80  mmHg', '131/73  mmHg', '108/75  mmHg',\n",
       "       '122/79  mmHg', '118/93  mmHg', '113/64  mmHg', '110/76  mmHg',\n",
       "       '136/84  mmHg', '134/67  mmHg', '148/99  mmHg', '112/74  mmHg',\n",
       "       '116/65  mmHg', '103/79  mmHg', '98/76  mmHg', '126/73  mmHg',\n",
       "       '110/90  mmHg', '107/52  mmHg', '102/69  mmHg', '94/54  mmHg',\n",
       "       '112/92  mmHg', '129/83  mmHg', '106/92  mmHg', '107/78  mmHg',\n",
       "       '124/75  mmHg', '124/74  mmHg', '107/60  mmHg', '101/62  mmHg',\n",
       "       '99/80  mmHg', '112/86  mmHg', '95/70  mmHg', '115/93  mmHg',\n",
       "       '115/98  mmHg', '110/89  mmHg', '109/73  mmHg', '109/96  mmHg',\n",
       "       '117/84  mmHg', '132/85  mmHg', '146/97  mmHg', '116/84  mmHg',\n",
       "       '99/65  mmHg', '124/84  mmHg', '98/69  mmHg', '126/77  mmHg',\n",
       "       '104/66  mmHg', '106/71  mmHg', '106/76  mmHg', '101/63  mmHg',\n",
       "       '135/81  mmHg', '123/73  mmHg', '106/72  mmHg', '129/79  mmHg',\n",
       "       '116/81  mmHg', '109/64  mmHg', '115/49  mmHg', '110/77  mmHg',\n",
       "       '112/91  mmHg', '110/70  mmHg', '94/72  mmHg', '115/77  mmHg',\n",
       "       '115/90  mmHg', '89/60  mmHg', '116/94  mmHg', '101/76  mmHg',\n",
       "       '103/61  mmHg', '107/74  mmHg', '83/58  mmHg', '112/73  mmHg',\n",
       "       '106/78  mmHg', '93/66  mmHg', '93/56  mmHg', '130/92  mmHg',\n",
       "       '103/72  mmHg', '119/78  mmHg', '110/75  mmHg', '107/75  mmHg',\n",
       "       '104/67  mmHg', '109/74  mmHg', '122/81  mmHg', '113/86  mmHg',\n",
       "       '117/82  mmHg', '123/91  mmHg', '112/75  mmHg', '128/83  mmHg',\n",
       "       '100/74  mmHg', '140/80  mmHg', '134/87  mmHg', '111/76  mmHg',\n",
       "       '114/80  mmHg', '135/92  mmHg', '112/78  mmHg', '132/87  mmHg',\n",
       "       '126/75  mmHg', '99/67  mmHg', '124/70  mmHg', '108/82  mmHg',\n",
       "       '116/80  mmHg', '112/71  mmHg', '106/79  mmHg', '92/54  mmHg',\n",
       "       '133/80  mmHg', '128/110  mmHg', '148/104  mmHg', '109/65  mmHg',\n",
       "       '161/96  mmHg', '120/76  mmHg', '125/80  mmHg', '168/84  mmHg',\n",
       "       '176/93  mmHg', '105/73  mmHg', '129/82  mmHg', '132/86  mmHg',\n",
       "       '131/99  mmHg', '145/86  mmHg', '119/76  mmHg', '97/60  mmHg',\n",
       "       '107/69  mmHg', '120/77  mmHg', '155/93  mmHg', '102/124'],\n",
       "      dtype=object)"
      ]
     },
     "execution_count": 14,
     "metadata": {},
     "output_type": "execute_result"
    }
   ],
   "source": [
    "data['BP'].unique()"
   ]
  },
  {
   "cell_type": "code",
   "execution_count": 15,
   "metadata": {},
   "outputs": [
    {
     "data": {
      "application/vnd.jupyter.widget-view+json": {
       "model_id": "1ea09adcf72b45c891292f43072eecd8",
       "version_major": 2,
       "version_minor": 0
      },
      "text/plain": [
       "Button(description='Toggle Pandas/Lux', layout=Layout(top='5px', width='140px'), style=ButtonStyle())"
      ]
     },
     "metadata": {},
     "output_type": "display_data"
    },
    {
     "data": {
      "application/vnd.jupyter.widget-view+json": {
       "model_id": "27573124088243229afc1a7c5a9beecb",
       "version_major": 2,
       "version_minor": 0
      },
      "text/plain": [
       "Output()"
      ]
     },
     "metadata": {},
     "output_type": "display_data"
    },
    {
     "data": {
      "text/plain": []
     },
     "execution_count": 15,
     "metadata": {},
     "output_type": "execute_result"
    }
   ],
   "source": [
    "data"
   ]
  },
  {
   "cell_type": "code",
   "execution_count": null,
   "metadata": {},
   "outputs": [],
   "source": []
  },
  {
   "cell_type": "markdown",
   "metadata": {},
   "source": [
    "*convert xlsx into csv\n",
    "*remove rows with blood group '#REF!'\n",
    "*adjusting blood group types\n",
    "*remove rows with all nan values(except age column)\n",
    "\n"
   ]
  },
  {
   "cell_type": "code",
   "execution_count": null,
   "metadata": {},
   "outputs": [],
   "source": []
  },
  {
   "cell_type": "code",
   "execution_count": null,
   "metadata": {},
   "outputs": [],
   "source": []
  },
  {
   "cell_type": "code",
   "execution_count": null,
   "metadata": {},
   "outputs": [],
   "source": []
  },
  {
   "cell_type": "code",
   "execution_count": null,
   "metadata": {},
   "outputs": [],
   "source": []
  }
 ],
 "metadata": {
  "kernelspec": {
   "display_name": "Python 3",
   "language": "python",
   "name": "python3"
  },
  "language_info": {
   "codemirror_mode": {
    "name": "ipython",
    "version": 3
   },
   "file_extension": ".py",
   "mimetype": "text/x-python",
   "name": "python",
   "nbconvert_exporter": "python",
   "pygments_lexer": "ipython3",
   "version": "3.8.5"
  }
 },
 "nbformat": 4,
 "nbformat_minor": 4
}
